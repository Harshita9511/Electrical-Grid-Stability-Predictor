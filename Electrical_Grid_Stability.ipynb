{
 "cells": [
  {
   "cell_type": "markdown",
   "metadata": {},
   "source": [
    "# Import Libraries"
   ]
  },
  {
   "cell_type": "code",
   "execution_count": 52,
   "metadata": {},
   "outputs": [],
   "source": [
    "import pandas as pd\n",
    "import numpy as np\n",
    "import matplotlib.pyplot as plt\n",
    "import seaborn as sns\n",
    "%matplotlib inline"
   ]
  },
  {
   "cell_type": "markdown",
   "metadata": {},
   "source": [
    "# Load the Dataset"
   ]
  },
  {
   "cell_type": "code",
   "execution_count": 53,
   "metadata": {},
   "outputs": [
    {
     "data": {
      "text/html": [
       "<div>\n",
       "<style scoped>\n",
       "    .dataframe tbody tr th:only-of-type {\n",
       "        vertical-align: middle;\n",
       "    }\n",
       "\n",
       "    .dataframe tbody tr th {\n",
       "        vertical-align: top;\n",
       "    }\n",
       "\n",
       "    .dataframe thead th {\n",
       "        text-align: right;\n",
       "    }\n",
       "</style>\n",
       "<table border=\"1\" class=\"dataframe\">\n",
       "  <thead>\n",
       "    <tr style=\"text-align: right;\">\n",
       "      <th></th>\n",
       "      <th>tau1</th>\n",
       "      <th>tau2</th>\n",
       "      <th>tau3</th>\n",
       "      <th>tau4</th>\n",
       "      <th>p1</th>\n",
       "      <th>p2</th>\n",
       "      <th>p3</th>\n",
       "      <th>p4</th>\n",
       "      <th>g1</th>\n",
       "      <th>g2</th>\n",
       "      <th>g3</th>\n",
       "      <th>g4</th>\n",
       "      <th>stab</th>\n",
       "      <th>stabf</th>\n",
       "    </tr>\n",
       "  </thead>\n",
       "  <tbody>\n",
       "    <tr>\n",
       "      <th>9990</th>\n",
       "      <td>5.783299</td>\n",
       "      <td>4.726614</td>\n",
       "      <td>1.340273</td>\n",
       "      <td>8.617933</td>\n",
       "      <td>4.587533</td>\n",
       "      <td>-1.950574</td>\n",
       "      <td>-1.594137</td>\n",
       "      <td>-1.042822</td>\n",
       "      <td>0.445853</td>\n",
       "      <td>0.645680</td>\n",
       "      <td>0.406864</td>\n",
       "      <td>0.726180</td>\n",
       "      <td>0.028673</td>\n",
       "      <td>unstable</td>\n",
       "    </tr>\n",
       "    <tr>\n",
       "      <th>9991</th>\n",
       "      <td>0.998988</td>\n",
       "      <td>9.924916</td>\n",
       "      <td>8.926563</td>\n",
       "      <td>2.885941</td>\n",
       "      <td>3.660232</td>\n",
       "      <td>-1.103521</td>\n",
       "      <td>-1.105641</td>\n",
       "      <td>-1.451070</td>\n",
       "      <td>0.717660</td>\n",
       "      <td>0.954919</td>\n",
       "      <td>0.491107</td>\n",
       "      <td>0.692023</td>\n",
       "      <td>0.008260</td>\n",
       "      <td>unstable</td>\n",
       "    </tr>\n",
       "    <tr>\n",
       "      <th>9992</th>\n",
       "      <td>3.114442</td>\n",
       "      <td>4.781072</td>\n",
       "      <td>2.427918</td>\n",
       "      <td>7.989509</td>\n",
       "      <td>2.673156</td>\n",
       "      <td>-0.918191</td>\n",
       "      <td>-0.652736</td>\n",
       "      <td>-1.102228</td>\n",
       "      <td>0.867950</td>\n",
       "      <td>0.888858</td>\n",
       "      <td>0.460587</td>\n",
       "      <td>0.965026</td>\n",
       "      <td>0.064645</td>\n",
       "      <td>unstable</td>\n",
       "    </tr>\n",
       "    <tr>\n",
       "      <th>9993</th>\n",
       "      <td>5.754191</td>\n",
       "      <td>3.032743</td>\n",
       "      <td>5.084803</td>\n",
       "      <td>4.633624</td>\n",
       "      <td>5.199250</td>\n",
       "      <td>-1.717030</td>\n",
       "      <td>-1.713212</td>\n",
       "      <td>-1.769009</td>\n",
       "      <td>0.157284</td>\n",
       "      <td>0.975921</td>\n",
       "      <td>0.511555</td>\n",
       "      <td>0.696591</td>\n",
       "      <td>0.050212</td>\n",
       "      <td>unstable</td>\n",
       "    </tr>\n",
       "    <tr>\n",
       "      <th>9994</th>\n",
       "      <td>2.042954</td>\n",
       "      <td>8.514335</td>\n",
       "      <td>8.173809</td>\n",
       "      <td>5.466635</td>\n",
       "      <td>3.783797</td>\n",
       "      <td>-1.639912</td>\n",
       "      <td>-0.662469</td>\n",
       "      <td>-1.481417</td>\n",
       "      <td>0.154129</td>\n",
       "      <td>0.944486</td>\n",
       "      <td>0.053225</td>\n",
       "      <td>0.499109</td>\n",
       "      <td>0.026311</td>\n",
       "      <td>unstable</td>\n",
       "    </tr>\n",
       "    <tr>\n",
       "      <th>9995</th>\n",
       "      <td>2.930406</td>\n",
       "      <td>9.487627</td>\n",
       "      <td>2.376523</td>\n",
       "      <td>6.187797</td>\n",
       "      <td>3.343416</td>\n",
       "      <td>-0.658054</td>\n",
       "      <td>-1.449106</td>\n",
       "      <td>-1.236256</td>\n",
       "      <td>0.601709</td>\n",
       "      <td>0.779642</td>\n",
       "      <td>0.813512</td>\n",
       "      <td>0.608385</td>\n",
       "      <td>0.023892</td>\n",
       "      <td>unstable</td>\n",
       "    </tr>\n",
       "    <tr>\n",
       "      <th>9996</th>\n",
       "      <td>3.392299</td>\n",
       "      <td>1.274827</td>\n",
       "      <td>2.954947</td>\n",
       "      <td>6.894759</td>\n",
       "      <td>4.349512</td>\n",
       "      <td>-1.663661</td>\n",
       "      <td>-0.952437</td>\n",
       "      <td>-1.733414</td>\n",
       "      <td>0.502079</td>\n",
       "      <td>0.567242</td>\n",
       "      <td>0.285880</td>\n",
       "      <td>0.366120</td>\n",
       "      <td>-0.025803</td>\n",
       "      <td>stable</td>\n",
       "    </tr>\n",
       "    <tr>\n",
       "      <th>9997</th>\n",
       "      <td>2.364034</td>\n",
       "      <td>2.842030</td>\n",
       "      <td>8.776391</td>\n",
       "      <td>1.008906</td>\n",
       "      <td>4.299976</td>\n",
       "      <td>-1.380719</td>\n",
       "      <td>-0.943884</td>\n",
       "      <td>-1.975373</td>\n",
       "      <td>0.487838</td>\n",
       "      <td>0.986505</td>\n",
       "      <td>0.149286</td>\n",
       "      <td>0.145984</td>\n",
       "      <td>-0.031810</td>\n",
       "      <td>stable</td>\n",
       "    </tr>\n",
       "    <tr>\n",
       "      <th>9998</th>\n",
       "      <td>9.631511</td>\n",
       "      <td>3.994398</td>\n",
       "      <td>2.757071</td>\n",
       "      <td>7.821347</td>\n",
       "      <td>2.514755</td>\n",
       "      <td>-0.966330</td>\n",
       "      <td>-0.649915</td>\n",
       "      <td>-0.898510</td>\n",
       "      <td>0.365246</td>\n",
       "      <td>0.587558</td>\n",
       "      <td>0.889118</td>\n",
       "      <td>0.818391</td>\n",
       "      <td>0.037789</td>\n",
       "      <td>unstable</td>\n",
       "    </tr>\n",
       "    <tr>\n",
       "      <th>9999</th>\n",
       "      <td>6.530527</td>\n",
       "      <td>6.781790</td>\n",
       "      <td>4.349695</td>\n",
       "      <td>8.673138</td>\n",
       "      <td>3.492807</td>\n",
       "      <td>-1.390285</td>\n",
       "      <td>-1.532193</td>\n",
       "      <td>-0.570329</td>\n",
       "      <td>0.073056</td>\n",
       "      <td>0.505441</td>\n",
       "      <td>0.378761</td>\n",
       "      <td>0.942631</td>\n",
       "      <td>0.045263</td>\n",
       "      <td>unstable</td>\n",
       "    </tr>\n",
       "  </tbody>\n",
       "</table>\n",
       "</div>"
      ],
      "text/plain": [
       "          tau1      tau2      tau3      tau4        p1        p2        p3  \\\n",
       "9990  5.783299  4.726614  1.340273  8.617933  4.587533 -1.950574 -1.594137   \n",
       "9991  0.998988  9.924916  8.926563  2.885941  3.660232 -1.103521 -1.105641   \n",
       "9992  3.114442  4.781072  2.427918  7.989509  2.673156 -0.918191 -0.652736   \n",
       "9993  5.754191  3.032743  5.084803  4.633624  5.199250 -1.717030 -1.713212   \n",
       "9994  2.042954  8.514335  8.173809  5.466635  3.783797 -1.639912 -0.662469   \n",
       "9995  2.930406  9.487627  2.376523  6.187797  3.343416 -0.658054 -1.449106   \n",
       "9996  3.392299  1.274827  2.954947  6.894759  4.349512 -1.663661 -0.952437   \n",
       "9997  2.364034  2.842030  8.776391  1.008906  4.299976 -1.380719 -0.943884   \n",
       "9998  9.631511  3.994398  2.757071  7.821347  2.514755 -0.966330 -0.649915   \n",
       "9999  6.530527  6.781790  4.349695  8.673138  3.492807 -1.390285 -1.532193   \n",
       "\n",
       "            p4        g1        g2        g3        g4      stab     stabf  \n",
       "9990 -1.042822  0.445853  0.645680  0.406864  0.726180  0.028673  unstable  \n",
       "9991 -1.451070  0.717660  0.954919  0.491107  0.692023  0.008260  unstable  \n",
       "9992 -1.102228  0.867950  0.888858  0.460587  0.965026  0.064645  unstable  \n",
       "9993 -1.769009  0.157284  0.975921  0.511555  0.696591  0.050212  unstable  \n",
       "9994 -1.481417  0.154129  0.944486  0.053225  0.499109  0.026311  unstable  \n",
       "9995 -1.236256  0.601709  0.779642  0.813512  0.608385  0.023892  unstable  \n",
       "9996 -1.733414  0.502079  0.567242  0.285880  0.366120 -0.025803    stable  \n",
       "9997 -1.975373  0.487838  0.986505  0.149286  0.145984 -0.031810    stable  \n",
       "9998 -0.898510  0.365246  0.587558  0.889118  0.818391  0.037789  unstable  \n",
       "9999 -0.570329  0.073056  0.505441  0.378761  0.942631  0.045263  unstable  "
      ]
     },
     "execution_count": 53,
     "metadata": {},
     "output_type": "execute_result"
    }
   ],
   "source": [
    "df=pd.read_csv(\"grid_data.csv\")\n",
    "df.tail(10)"
   ]
  },
  {
   "cell_type": "markdown",
   "metadata": {},
   "source": [
    "# Exploratory Data Analysis"
   ]
  },
  {
   "cell_type": "code",
   "execution_count": 54,
   "metadata": {},
   "outputs": [
    {
     "name": "stdout",
     "output_type": "stream",
     "text": [
      "<class 'pandas.core.frame.DataFrame'>\n",
      "RangeIndex: 10000 entries, 0 to 9999\n",
      "Data columns (total 14 columns):\n",
      " #   Column  Non-Null Count  Dtype  \n",
      "---  ------  --------------  -----  \n",
      " 0   tau1    10000 non-null  float64\n",
      " 1   tau2    10000 non-null  float64\n",
      " 2   tau3    10000 non-null  float64\n",
      " 3   tau4    10000 non-null  float64\n",
      " 4   p1      10000 non-null  float64\n",
      " 5   p2      10000 non-null  float64\n",
      " 6   p3      10000 non-null  float64\n",
      " 7   p4      10000 non-null  float64\n",
      " 8   g1      10000 non-null  float64\n",
      " 9   g2      10000 non-null  float64\n",
      " 10  g3      10000 non-null  float64\n",
      " 11  g4      10000 non-null  float64\n",
      " 12  stab    10000 non-null  float64\n",
      " 13  stabf   10000 non-null  object \n",
      "dtypes: float64(13), object(1)\n",
      "memory usage: 1.1+ MB\n"
     ]
    }
   ],
   "source": [
    "# summary of a DataFrame\n",
    "df.info()"
   ]
  },
  {
   "cell_type": "code",
   "execution_count": 55,
   "metadata": {},
   "outputs": [
    {
     "data": {
      "text/plain": [
       "tau1     0\n",
       "tau2     0\n",
       "tau3     0\n",
       "tau4     0\n",
       "p1       0\n",
       "p2       0\n",
       "p3       0\n",
       "p4       0\n",
       "g1       0\n",
       "g2       0\n",
       "g3       0\n",
       "g4       0\n",
       "stab     0\n",
       "stabf    0\n",
       "dtype: int64"
      ]
     },
     "execution_count": 55,
     "metadata": {},
     "output_type": "execute_result"
    }
   ],
   "source": [
    "# checking the presence of missing values in each column\n",
    "df.isnull().sum()"
   ]
  },
  {
   "cell_type": "code",
   "execution_count": 56,
   "metadata": {},
   "outputs": [
    {
     "data": {
      "text/html": [
       "<div>\n",
       "<style scoped>\n",
       "    .dataframe tbody tr th:only-of-type {\n",
       "        vertical-align: middle;\n",
       "    }\n",
       "\n",
       "    .dataframe tbody tr th {\n",
       "        vertical-align: top;\n",
       "    }\n",
       "\n",
       "    .dataframe thead th {\n",
       "        text-align: right;\n",
       "    }\n",
       "</style>\n",
       "<table border=\"1\" class=\"dataframe\">\n",
       "  <thead>\n",
       "    <tr style=\"text-align: right;\">\n",
       "      <th></th>\n",
       "      <th>tau1</th>\n",
       "      <th>tau2</th>\n",
       "      <th>tau3</th>\n",
       "      <th>tau4</th>\n",
       "      <th>p1</th>\n",
       "      <th>p2</th>\n",
       "      <th>p3</th>\n",
       "      <th>p4</th>\n",
       "      <th>g1</th>\n",
       "      <th>g2</th>\n",
       "      <th>g3</th>\n",
       "      <th>g4</th>\n",
       "      <th>stab</th>\n",
       "    </tr>\n",
       "  </thead>\n",
       "  <tbody>\n",
       "    <tr>\n",
       "      <th>count</th>\n",
       "      <td>10000.000000</td>\n",
       "      <td>10000.000000</td>\n",
       "      <td>10000.000000</td>\n",
       "      <td>10000.000000</td>\n",
       "      <td>10000.000000</td>\n",
       "      <td>10000.000000</td>\n",
       "      <td>10000.000000</td>\n",
       "      <td>10000.000000</td>\n",
       "      <td>10000.000000</td>\n",
       "      <td>10000.000000</td>\n",
       "      <td>10000.000000</td>\n",
       "      <td>10000.000000</td>\n",
       "      <td>10000.000000</td>\n",
       "    </tr>\n",
       "    <tr>\n",
       "      <th>mean</th>\n",
       "      <td>5.250000</td>\n",
       "      <td>5.250001</td>\n",
       "      <td>5.250004</td>\n",
       "      <td>5.249997</td>\n",
       "      <td>3.750000</td>\n",
       "      <td>-1.250000</td>\n",
       "      <td>-1.250000</td>\n",
       "      <td>-1.250000</td>\n",
       "      <td>0.525000</td>\n",
       "      <td>0.525000</td>\n",
       "      <td>0.525000</td>\n",
       "      <td>0.525000</td>\n",
       "      <td>0.015731</td>\n",
       "    </tr>\n",
       "    <tr>\n",
       "      <th>std</th>\n",
       "      <td>2.742548</td>\n",
       "      <td>2.742549</td>\n",
       "      <td>2.742549</td>\n",
       "      <td>2.742556</td>\n",
       "      <td>0.752160</td>\n",
       "      <td>0.433035</td>\n",
       "      <td>0.433035</td>\n",
       "      <td>0.433035</td>\n",
       "      <td>0.274256</td>\n",
       "      <td>0.274255</td>\n",
       "      <td>0.274255</td>\n",
       "      <td>0.274255</td>\n",
       "      <td>0.036919</td>\n",
       "    </tr>\n",
       "    <tr>\n",
       "      <th>min</th>\n",
       "      <td>0.500793</td>\n",
       "      <td>0.500141</td>\n",
       "      <td>0.500788</td>\n",
       "      <td>0.500473</td>\n",
       "      <td>1.582590</td>\n",
       "      <td>-1.999891</td>\n",
       "      <td>-1.999945</td>\n",
       "      <td>-1.999926</td>\n",
       "      <td>0.050009</td>\n",
       "      <td>0.050053</td>\n",
       "      <td>0.050054</td>\n",
       "      <td>0.050028</td>\n",
       "      <td>-0.080760</td>\n",
       "    </tr>\n",
       "    <tr>\n",
       "      <th>25%</th>\n",
       "      <td>2.874892</td>\n",
       "      <td>2.875140</td>\n",
       "      <td>2.875522</td>\n",
       "      <td>2.874950</td>\n",
       "      <td>3.218300</td>\n",
       "      <td>-1.624901</td>\n",
       "      <td>-1.625025</td>\n",
       "      <td>-1.624960</td>\n",
       "      <td>0.287521</td>\n",
       "      <td>0.287552</td>\n",
       "      <td>0.287514</td>\n",
       "      <td>0.287494</td>\n",
       "      <td>-0.015557</td>\n",
       "    </tr>\n",
       "    <tr>\n",
       "      <th>50%</th>\n",
       "      <td>5.250004</td>\n",
       "      <td>5.249981</td>\n",
       "      <td>5.249979</td>\n",
       "      <td>5.249734</td>\n",
       "      <td>3.751025</td>\n",
       "      <td>-1.249966</td>\n",
       "      <td>-1.249974</td>\n",
       "      <td>-1.250007</td>\n",
       "      <td>0.525009</td>\n",
       "      <td>0.525003</td>\n",
       "      <td>0.525015</td>\n",
       "      <td>0.525002</td>\n",
       "      <td>0.017142</td>\n",
       "    </tr>\n",
       "    <tr>\n",
       "      <th>75%</th>\n",
       "      <td>7.624690</td>\n",
       "      <td>7.624893</td>\n",
       "      <td>7.624948</td>\n",
       "      <td>7.624838</td>\n",
       "      <td>4.282420</td>\n",
       "      <td>-0.874977</td>\n",
       "      <td>-0.875043</td>\n",
       "      <td>-0.875065</td>\n",
       "      <td>0.762435</td>\n",
       "      <td>0.762490</td>\n",
       "      <td>0.762440</td>\n",
       "      <td>0.762433</td>\n",
       "      <td>0.044878</td>\n",
       "    </tr>\n",
       "    <tr>\n",
       "      <th>max</th>\n",
       "      <td>9.999469</td>\n",
       "      <td>9.999837</td>\n",
       "      <td>9.999450</td>\n",
       "      <td>9.999443</td>\n",
       "      <td>5.864418</td>\n",
       "      <td>-0.500108</td>\n",
       "      <td>-0.500072</td>\n",
       "      <td>-0.500025</td>\n",
       "      <td>0.999937</td>\n",
       "      <td>0.999944</td>\n",
       "      <td>0.999982</td>\n",
       "      <td>0.999930</td>\n",
       "      <td>0.109403</td>\n",
       "    </tr>\n",
       "  </tbody>\n",
       "</table>\n",
       "</div>"
      ],
      "text/plain": [
       "               tau1          tau2          tau3          tau4            p1  \\\n",
       "count  10000.000000  10000.000000  10000.000000  10000.000000  10000.000000   \n",
       "mean       5.250000      5.250001      5.250004      5.249997      3.750000   \n",
       "std        2.742548      2.742549      2.742549      2.742556      0.752160   \n",
       "min        0.500793      0.500141      0.500788      0.500473      1.582590   \n",
       "25%        2.874892      2.875140      2.875522      2.874950      3.218300   \n",
       "50%        5.250004      5.249981      5.249979      5.249734      3.751025   \n",
       "75%        7.624690      7.624893      7.624948      7.624838      4.282420   \n",
       "max        9.999469      9.999837      9.999450      9.999443      5.864418   \n",
       "\n",
       "                 p2            p3            p4            g1            g2  \\\n",
       "count  10000.000000  10000.000000  10000.000000  10000.000000  10000.000000   \n",
       "mean      -1.250000     -1.250000     -1.250000      0.525000      0.525000   \n",
       "std        0.433035      0.433035      0.433035      0.274256      0.274255   \n",
       "min       -1.999891     -1.999945     -1.999926      0.050009      0.050053   \n",
       "25%       -1.624901     -1.625025     -1.624960      0.287521      0.287552   \n",
       "50%       -1.249966     -1.249974     -1.250007      0.525009      0.525003   \n",
       "75%       -0.874977     -0.875043     -0.875065      0.762435      0.762490   \n",
       "max       -0.500108     -0.500072     -0.500025      0.999937      0.999944   \n",
       "\n",
       "                 g3            g4          stab  \n",
       "count  10000.000000  10000.000000  10000.000000  \n",
       "mean       0.525000      0.525000      0.015731  \n",
       "std        0.274255      0.274255      0.036919  \n",
       "min        0.050054      0.050028     -0.080760  \n",
       "25%        0.287514      0.287494     -0.015557  \n",
       "50%        0.525015      0.525002      0.017142  \n",
       "75%        0.762440      0.762433      0.044878  \n",
       "max        0.999982      0.999930      0.109403  "
      ]
     },
     "execution_count": 56,
     "metadata": {},
     "output_type": "execute_result"
    }
   ],
   "source": [
    "# descriptive statistics\n",
    "df.describe()"
   ]
  },
  {
   "cell_type": "code",
   "execution_count": 57,
   "metadata": {},
   "outputs": [
    {
     "name": "stdout",
     "output_type": "stream",
     "text": [
      "unstable    6380\n",
      "stable      3620\n",
      "Name: stabf, dtype: int64\n"
     ]
    },
    {
     "data": {
      "text/plain": [
       "<matplotlib.axes._subplots.AxesSubplot at 0x14535036848>"
      ]
     },
     "execution_count": 57,
     "metadata": {},
     "output_type": "execute_result"
    },
    {
     "data": {
      "image/png": "[encoded data removed]",
      "text/plain": [
       "<Figure size 432x288 with 1 Axes>"
      ]
     },
     "metadata": {},
     "output_type": "display_data"
    }
   ],
   "source": [
    "# Show the counts of observations in each category.\n",
    "print(df['stabf'].value_counts())\n",
    "\n",
    "sns.set_style('whitegrid')\n",
    "sns.countplot(x='stabf',data=df, palette='YlGnBu_r')"
   ]
  },
  {
   "cell_type": "code",
   "execution_count": 58,
   "metadata": {},
   "outputs": [
    {
     "data": {
      "text/plain": [
       "<matplotlib.axes._subplots.AxesSubplot at 0x1453545d688>"
      ]
     },
     "execution_count": 58,
     "metadata": {},
     "output_type": "execute_result"
    },
    {
     "data": {
      "image/png": "[encoded data removed]",
      "text/plain": [
       "<Figure size 576x288 with 1 Axes>"
      ]
     },
     "metadata": {},
     "output_type": "display_data"
    }
   ],
   "source": [
    "# distribution of observations in column 'stab'.\n",
    "plt.figure(figsize=(8,4))\n",
    "sns.distplot(df['stab'], color='r')"
   ]
  },
  {
   "cell_type": "code",
   "execution_count": 59,
   "metadata": {},
   "outputs": [
    {
     "data": {
      "text/plain": [
       "<matplotlib.axes._subplots.AxesSubplot at 0x14535254348>"
      ]
     },
     "execution_count": 59,
     "metadata": {},
     "output_type": "execute_result"
    },
    {
     "data": {
      "image/png": "[encoded data removed]",
      "text/plain": [
       "<Figure size 1008x720 with 2 Axes>"
      ]
     },
     "metadata": {},
     "output_type": "display_data"
    }
   ],
   "source": [
    "# correlation heatmap\n",
    "plt.figure(figsize=(14,10))\n",
    "sns.heatmap(df.corr(), annot=True)"
   ]
  },
  {
   "cell_type": "markdown",
   "metadata": {},
   "source": [
    "# Train Test Split"
   ]
  },
  {
   "cell_type": "code",
   "execution_count": 60,
   "metadata": {},
   "outputs": [],
   "source": [
    "X = df.drop(['stab', 'stabf'],axis=1)\n",
    "y = df['stab']\n",
    "\n",
    "from sklearn.model_selection import train_test_split\n",
    "X_train, X_test, y_train, y_test = train_test_split(X,y,test_size=0.2,random_state=42)"
   ]
  },
  {
   "cell_type": "markdown",
   "metadata": {},
   "source": [
    "# Scaling"
   ]
  },
  {
   "cell_type": "code",
   "execution_count": 61,
   "metadata": {},
   "outputs": [
    {
     "data": {
      "text/plain": [
       "['Scaler.joblib']"
      ]
     },
     "execution_count": 61,
     "metadata": {},
     "output_type": "execute_result"
    }
   ],
   "source": [
    "import joblib\n",
    "from joblib import dump, load\n",
    "from sklearn.preprocessing import StandardScaler\n",
    "scaler = StandardScaler()\n",
    "X_train= scaler.fit_transform(X_train)\n",
    "X_test = scaler.transform(X_test)\n",
    "joblib.dump(scaler, 'Scaler.joblib')"
   ]
  },
  {
   "cell_type": "markdown",
   "metadata": {},
   "source": [
    "# Build the Model"
   ]
  },
  {
   "cell_type": "code",
   "execution_count": 62,
   "metadata": {},
   "outputs": [],
   "source": [
    "from tensorflow.keras.models import Sequential\n",
    "from tensorflow.keras.layers import Dense\n",
    "from tensorflow.keras.optimizers import Adam\n",
    "from tensorflow.keras.layers import Dropout"
   ]
  },
  {
   "cell_type": "code",
   "execution_count": 63,
   "metadata": {},
   "outputs": [
    {
     "data": {
      "text/plain": [
       "(8000, 12)"
      ]
     },
     "execution_count": 63,
     "metadata": {},
     "output_type": "execute_result"
    }
   ],
   "source": [
    "X_train.shape"
   ]
  },
  {
   "cell_type": "code",
   "execution_count": 64,
   "metadata": {},
   "outputs": [],
   "source": [
    "model = Sequential()\n",
    "model.add(Dense(12, activation='elu'))\n",
    "model.add(Dropout(0.5))\n",
    "\n",
    "model.add(Dense(3,activation='elu'))\n",
    "\n",
    "model.add(Dense(1))\n",
    "\n",
    "model.compile(optimizer='adam', loss='mse')"
   ]
  },
  {
   "cell_type": "code",
   "execution_count": 65,
   "metadata": {},
   "outputs": [],
   "source": [
    "from tensorflow.keras.callbacks import EarlyStopping\n",
    "early_stop = EarlyStopping(monitor='val_loss', mode='min', verbose=1, patience=10)"
   ]
  },
  {
   "cell_type": "code",
   "execution_count": 66,
   "metadata": {},
   "outputs": [
    {
     "name": "stdout",
     "output_type": "stream",
     "text": [
      "Epoch 1/100\n",
      "225/225 [==============================] - 1s 6ms/step - loss: 0.4898 - val_loss: 0.0583\n",
      "Epoch 2/100\n",
      "225/225 [==============================] - 1s 3ms/step - loss: 0.1209 - val_loss: 0.0137\n",
      "Epoch 3/100\n",
      "225/225 [==============================] - 1s 3ms/step - loss: 0.0503 - val_loss: 0.0054\n",
      "Epoch 4/100\n",
      "225/225 [==============================] - 1s 3ms/step - loss: 0.0252 - val_loss: 0.0029\n",
      "Epoch 5/100\n",
      "225/225 [==============================] - 1s 3ms/step - loss: 0.0140 - val_loss: 0.0021\n",
      "Epoch 6/100\n",
      "225/225 [==============================] - 1s 4ms/step - loss: 0.0093 - val_loss: 0.0016\n",
      "Epoch 7/100\n",
      "225/225 [==============================] - 1s 4ms/step - loss: 0.0065 - val_loss: 0.0014\n",
      "Epoch 8/100\n",
      "225/225 [==============================] - 1s 3ms/step - loss: 0.0045 - val_loss: 0.0012\n",
      "Epoch 9/100\n",
      "225/225 [==============================] - 1s 3ms/step - loss: 0.0036 - val_loss: 0.0011\n",
      "Epoch 10/100\n",
      "225/225 [==============================] - 1s 3ms/step - loss: 0.0029 - val_loss: 0.0010\n",
      "Epoch 11/100\n",
      "225/225 [==============================] - 1s 4ms/step - loss: 0.0024 - val_loss: 9.4955e-04\n",
      "Epoch 12/100\n",
      "225/225 [==============================] - 1s 3ms/step - loss: 0.0021 - val_loss: 9.0268e-04\n",
      "Epoch 13/100\n",
      "225/225 [==============================] - 1s 3ms/step - loss: 0.0017 - val_loss: 8.5488e-04\n",
      "Epoch 14/100\n",
      "225/225 [==============================] - 1s 3ms/step - loss: 0.0015 - val_loss: 8.4792e-04\n",
      "Epoch 15/100\n",
      "225/225 [==============================] - 1s 3ms/step - loss: 0.0013 - val_loss: 7.7903e-04\n",
      "Epoch 16/100\n",
      "225/225 [==============================] - 1s 4ms/step - loss: 0.0012 - val_loss: 7.4307e-04\n",
      "Epoch 17/100\n",
      "225/225 [==============================] - 1s 4ms/step - loss: 0.0011 - val_loss: 7.2069e-04\n",
      "Epoch 18/100\n",
      "225/225 [==============================] - 1s 3ms/step - loss: 0.0010 - val_loss: 7.1098e-04\n",
      "Epoch 19/100\n",
      "225/225 [==============================] - 1s 3ms/step - loss: 9.8642e-04 - val_loss: 6.5173e-04\n",
      "Epoch 20/100\n",
      "225/225 [==============================] - 1s 3ms/step - loss: 9.3487e-04 - val_loss: 6.4931e-04\n",
      "Epoch 21/100\n",
      "225/225 [==============================] - 1s 3ms/step - loss: 8.7959e-04 - val_loss: 6.3007e-04\n",
      "Epoch 22/100\n",
      "225/225 [==============================] - 1s 3ms/step - loss: 8.5758e-04 - val_loss: 6.2322e-04\n",
      "Epoch 23/100\n",
      "225/225 [==============================] - 1s 3ms/step - loss: 8.1515e-04 - val_loss: 6.1502e-04\n",
      "Epoch 24/100\n",
      "225/225 [==============================] - 1s 3ms/step - loss: 7.9014e-04 - val_loss: 6.0119e-04\n",
      "Epoch 25/100\n",
      "225/225 [==============================] - 1s 3ms/step - loss: 7.8800e-04 - val_loss: 5.7261e-04\n",
      "Epoch 26/100\n",
      "225/225 [==============================] - 1s 3ms/step - loss: 7.6690e-04 - val_loss: 5.8578e-04\n",
      "Epoch 27/100\n",
      "225/225 [==============================] - 1s 3ms/step - loss: 7.4193e-04 - val_loss: 5.6763e-04\n",
      "Epoch 28/100\n",
      "225/225 [==============================] - 1s 3ms/step - loss: 7.2910e-04 - val_loss: 5.9779e-04\n",
      "Epoch 29/100\n",
      "225/225 [==============================] - 1s 3ms/step - loss: 7.1692e-04 - val_loss: 5.6409e-04\n",
      "Epoch 30/100\n",
      "225/225 [==============================] - 1s 4ms/step - loss: 7.0979e-04 - val_loss: 5.5285e-04\n",
      "Epoch 31/100\n",
      "225/225 [==============================] - 1s 3ms/step - loss: 6.9303e-04 - val_loss: 5.4982e-04\n",
      "Epoch 32/100\n",
      "225/225 [==============================] - 1s 3ms/step - loss: 6.8939e-04 - val_loss: 5.3047e-04\n",
      "Epoch 33/100\n",
      "225/225 [==============================] - 1s 3ms/step - loss: 6.8889e-04 - val_loss: 5.4159e-04\n",
      "Epoch 34/100\n",
      "225/225 [==============================] - 1s 3ms/step - loss: 6.7349e-04 - val_loss: 5.2740e-04\n",
      "Epoch 35/100\n",
      "225/225 [==============================] - 1s 3ms/step - loss: 6.6756e-04 - val_loss: 5.2723e-04\n",
      "Epoch 36/100\n",
      "225/225 [==============================] - 1s 3ms/step - loss: 6.7194e-04 - val_loss: 5.1958e-04\n",
      "Epoch 37/100\n",
      "225/225 [==============================] - 1s 3ms/step - loss: 6.6294e-04 - val_loss: 5.4006e-04\n",
      "Epoch 38/100\n",
      "225/225 [==============================] - 1s 3ms/step - loss: 6.6359e-04 - val_loss: 5.6295e-04\n",
      "Epoch 39/100\n",
      "225/225 [==============================] - 1s 3ms/step - loss: 6.4690e-04 - val_loss: 5.2039e-04\n",
      "Epoch 40/100\n",
      "225/225 [==============================] - 1s 3ms/step - loss: 6.4708e-04 - val_loss: 5.4359e-04\n",
      "Epoch 41/100\n",
      "225/225 [==============================] - 1s 4ms/step - loss: 6.3735e-04 - val_loss: 5.1970e-04\n",
      "Epoch 42/100\n",
      "225/225 [==============================] - 1s 3ms/step - loss: 6.3711e-04 - val_loss: 5.1544e-04\n",
      "Epoch 43/100\n",
      "225/225 [==============================] - 1s 4ms/step - loss: 6.3291e-04 - val_loss: 5.0184e-04\n",
      "Epoch 44/100\n",
      "225/225 [==============================] - 1s 4ms/step - loss: 6.2674e-04 - val_loss: 5.0978e-04\n",
      "Epoch 45/100\n",
      "225/225 [==============================] - 1s 4ms/step - loss: 6.1464e-04 - val_loss: 5.0367e-04\n",
      "Epoch 46/100\n",
      "225/225 [==============================] - 1s 3ms/step - loss: 6.0214e-04 - val_loss: 5.0690e-04\n",
      "Epoch 47/100\n",
      "225/225 [==============================] - 1s 3ms/step - loss: 5.9962e-04 - val_loss: 5.1005e-04\n",
      "Epoch 48/100\n",
      "225/225 [==============================] - 1s 3ms/step - loss: 5.9781e-04 - val_loss: 5.0514e-04\n",
      "Epoch 49/100\n",
      "225/225 [==============================] - 1s 3ms/step - loss: 5.8806e-04 - val_loss: 4.6544e-04\n",
      "Epoch 50/100\n",
      "225/225 [==============================] - 1s 3ms/step - loss: 5.7580e-04 - val_loss: 5.0038e-04\n",
      "Epoch 51/100\n",
      "225/225 [==============================] - 1s 3ms/step - loss: 5.7104e-04 - val_loss: 4.5804e-04\n",
      "Epoch 52/100\n",
      "225/225 [==============================] - 1s 3ms/step - loss: 5.5893e-04 - val_loss: 4.6988e-04\n",
      "Epoch 53/100\n",
      "225/225 [==============================] - 1s 3ms/step - loss: 5.5477e-04 - val_loss: 4.5219e-04\n",
      "Epoch 54/100\n",
      "225/225 [==============================] - 1s 3ms/step - loss: 5.4548e-04 - val_loss: 4.7283e-04\n",
      "Epoch 55/100\n",
      "225/225 [==============================] - 1s 3ms/step - loss: 5.5212e-04 - val_loss: 4.9058e-04\n",
      "Epoch 56/100\n",
      "225/225 [==============================] - 1s 3ms/step - loss: 5.4432e-04 - val_loss: 4.3677e-04\n",
      "Epoch 57/100\n",
      "225/225 [==============================] - 1s 3ms/step - loss: 5.3935e-04 - val_loss: 4.3285e-04\n",
      "Epoch 58/100\n",
      "225/225 [==============================] - 1s 3ms/step - loss: 5.3690e-04 - val_loss: 4.6292e-04\n",
      "Epoch 59/100\n",
      "225/225 [==============================] - 1s 3ms/step - loss: 5.2393e-04 - val_loss: 4.5732e-04\n",
      "Epoch 60/100\n",
      "225/225 [==============================] - 1s 3ms/step - loss: 5.2455e-04 - val_loss: 4.6488e-04\n",
      "Epoch 61/100\n",
      "225/225 [==============================] - 1s 3ms/step - loss: 5.2393e-04 - val_loss: 4.5000e-04\n",
      "Epoch 62/100\n",
      "225/225 [==============================] - 1s 3ms/step - loss: 5.1604e-04 - val_loss: 4.6624e-04\n",
      "Epoch 63/100\n",
      "225/225 [==============================] - 1s 3ms/step - loss: 5.1802e-04 - val_loss: 4.4594e-04\n",
      "Epoch 64/100\n",
      "225/225 [==============================] - 1s 3ms/step - loss: 5.1354e-04 - val_loss: 4.2232e-04\n",
      "Epoch 65/100\n",
      "225/225 [==============================] - 1s 3ms/step - loss: 5.1000e-04 - val_loss: 4.2760e-04\n",
      "Epoch 66/100\n",
      "225/225 [==============================] - 1s 3ms/step - loss: 5.1764e-04 - val_loss: 4.5682e-04\n",
      "Epoch 67/100\n",
      "225/225 [==============================] - 1s 3ms/step - loss: 5.0678e-04 - val_loss: 4.6685e-04\n",
      "Epoch 68/100\n",
      "225/225 [==============================] - 1s 3ms/step - loss: 5.0736e-04 - val_loss: 4.3472e-04\n",
      "Epoch 69/100\n",
      "225/225 [==============================] - 1s 3ms/step - loss: 5.0077e-04 - val_loss: 4.2601e-04\n",
      "Epoch 70/100\n",
      "225/225 [==============================] - 1s 3ms/step - loss: 4.9941e-04 - val_loss: 4.5482e-04\n",
      "Epoch 71/100\n",
      "225/225 [==============================] - 1s 3ms/step - loss: 4.9652e-04 - val_loss: 4.6877e-04\n",
      "Epoch 72/100\n",
      "225/225 [==============================] - 1s 3ms/step - loss: 4.9209e-04 - val_loss: 4.5239e-04\n",
      "Epoch 73/100\n",
      "225/225 [==============================] - 1s 3ms/step - loss: 5.0138e-04 - val_loss: 5.0750e-04\n",
      "Epoch 74/100\n",
      "225/225 [==============================] - 1s 3ms/step - loss: 5.0364e-04 - val_loss: 4.5816e-04\n",
      "Epoch 00074: early stopping\n"
     ]
    },
    {
     "data": {
      "text/plain": [
       "<tensorflow.python.keras.callbacks.History at 0x14533a78708>"
      ]
     },
     "execution_count": 66,
     "metadata": {},
     "output_type": "execute_result"
    }
   ],
   "source": [
    "model.fit(x=X_train,y=y_train.values,\n",
    "          validation_split=0.1,\n",
    "          batch_size=32,epochs=100, callbacks=[early_stop])"
   ]
  },
  {
   "cell_type": "code",
   "execution_count": 67,
   "metadata": {},
   "outputs": [],
   "source": [
    "# save the model\n",
    "model.save('Electrical_Grid_Stability.h5')"
   ]
  },
  {
   "cell_type": "code",
   "execution_count": 68,
   "metadata": {},
   "outputs": [
    {
     "name": "stdout",
     "output_type": "stream",
     "text": [
      "Model: \"sequential\"\n",
      "_________________________________________________________________\n",
      "Layer (type)                 Output Shape              Param #   \n",
      "=================================================================\n",
      "dense (Dense)                (32, 12)                  156       \n",
      "_________________________________________________________________\n",
      "dropout (Dropout)            (32, 12)                  0         \n",
      "_________________________________________________________________\n",
      "dense_1 (Dense)              (32, 3)                   39        \n",
      "_________________________________________________________________\n",
      "dense_2 (Dense)              (32, 1)                   4         \n",
      "=================================================================\n",
      "Total params: 199\n",
      "Trainable params: 199\n",
      "Non-trainable params: 0\n",
      "_________________________________________________________________\n"
     ]
    }
   ],
   "source": [
    "model.summary()"
   ]
  },
  {
   "cell_type": "code",
   "execution_count": 69,
   "metadata": {},
   "outputs": [
    {
     "data": {
      "text/plain": [
       "<matplotlib.axes._subplots.AxesSubplot at 0x1453667e208>"
      ]
     },
     "execution_count": 69,
     "metadata": {},
     "output_type": "execute_result"
    },
    {
     "data": {
      "image/png": "[encoded data removed]",
      "text/plain": [
       "<Figure size 432x288 with 1 Axes>"
      ]
     },
     "metadata": {},
     "output_type": "display_data"
    }
   ],
   "source": [
    "losses = pd.DataFrame(model.history.history)\n",
    "losses.plot()"
   ]
  },
  {
   "cell_type": "markdown",
   "metadata": {},
   "source": [
    "# Model Evaluation"
   ]
  },
  {
   "cell_type": "code",
   "execution_count": 70,
   "metadata": {},
   "outputs": [],
   "source": [
    "from sklearn.metrics import mean_squared_error,mean_absolute_error\n",
    "predictions = model.predict(X_test)"
   ]
  },
  {
   "cell_type": "code",
   "execution_count": 71,
   "metadata": {},
   "outputs": [
    {
     "data": {
      "text/plain": [
       "array([[0.04737282],\n",
       "       [0.02468352],\n",
       "       [0.02099694],\n",
       "       ...,\n",
       "       [0.00836718],\n",
       "       [0.06481464],\n",
       "       [0.02350764]], dtype=float32)"
      ]
     },
     "execution_count": 71,
     "metadata": {},
     "output_type": "execute_result"
    }
   ],
   "source": [
    "predictions"
   ]
  },
  {
   "cell_type": "code",
   "execution_count": 72,
   "metadata": {},
   "outputs": [
    {
     "data": {
      "text/plain": [
       "0.015933133282084053"
      ]
     },
     "execution_count": 72,
     "metadata": {},
     "output_type": "execute_result"
    }
   ],
   "source": [
    "mean_absolute_error(y_test,predictions)"
   ]
  },
  {
   "cell_type": "code",
   "execution_count": 73,
   "metadata": {},
   "outputs": [
    {
     "data": {
      "text/plain": [
       "0.00041859815952952154"
      ]
     },
     "execution_count": 73,
     "metadata": {},
     "output_type": "execute_result"
    }
   ],
   "source": [
    "mean_squared_error(y_test,predictions)"
   ]
  },
  {
   "cell_type": "code",
   "execution_count": 74,
   "metadata": {},
   "outputs": [
    {
     "data": {
      "text/plain": [
       "0.020459671540118175"
      ]
     },
     "execution_count": 74,
     "metadata": {},
     "output_type": "execute_result"
    }
   ],
   "source": [
    "np.sqrt(mean_squared_error(y_test,predictions))"
   ]
  },
  {
   "cell_type": "code",
   "execution_count": 75,
   "metadata": {},
   "outputs": [],
   "source": [
    "from tensorflow.keras.models import load_model"
   ]
  },
  {
   "cell_type": "code",
   "execution_count": 82,
   "metadata": {},
   "outputs": [],
   "source": [
    "model_grid = load_model('Electrical_Grid_Stability.h5')\n",
    "scaler=load('Scaler.joblib')"
   ]
  },
  {
   "cell_type": "code",
   "execution_count": 83,
   "metadata": {},
   "outputs": [],
   "source": [
    "from sklearn.preprocessing import StandardScaler\n",
    "def foo(t1, t2, t3, t4, p1, p2, p3, p4, g1, g2, g3, g4):\n",
    "    X_test = scaler.transform([[t1, t2, t3, t4, p1, p2, p3, p4, g1, g2, g3, g4]])\n",
    "    prediction = model_grid.predict(X_test)\n",
    "    print(prediction[0][0])\n",
    "    if prediction[0][0]>=0:\n",
    "        return \"Oops! the system is linearly unstable.\"\n",
    "    else:\n",
    "        return \"Great! the system is stable.\""
   ]
  },
  {
   "cell_type": "code",
   "execution_count": 84,
   "metadata": {},
   "outputs": [
    {
     "name": "stdout",
     "output_type": "stream",
     "text": [
      "-0.03427185\n"
     ]
    },
    {
     "data": {
      "text/plain": [
       "'Great! the system is stable.'"
      ]
     },
     "execution_count": 84,
     "metadata": {},
     "output_type": "execute_result"
    }
   ],
   "source": [
    "foo(4.689852, 4.007747, 1.478573, 3.733787, 4.041300, -1.410344, -1.238204, -1.392751, 0.269708, 0.250364, 0.164941, 0.482439)"
   ]
  },
  {
   "cell_type": "code",
   "execution_count": 85,
   "metadata": {},
   "outputs": [
    {
     "name": "stdout",
     "output_type": "stream",
     "text": [
      "0.010151699\n"
     ]
    },
    {
     "data": {
      "text/plain": [
       "'Oops! the system is linearly unstable.'"
      ]
     },
     "execution_count": 85,
     "metadata": {},
     "output_type": "execute_result"
    }
   ],
   "source": [
    "foo(2.042954, 8.514335, 8.173809, 5.466635, 3.783797, -1.639912,-0.662469, -1.481417, 0.154129, 0.944486, 0.053225, 0.499109)"
   ]
  },
  {
   "cell_type": "code",
   "execution_count": 86,
   "metadata": {},
   "outputs": [
    {
     "name": "stdout",
     "output_type": "stream",
     "text": [
      "0.037708193\n"
     ]
    },
    {
     "data": {
      "text/plain": [
       "'Oops! the system is linearly unstable.'"
      ]
     },
     "execution_count": 86,
     "metadata": {},
     "output_type": "execute_result"
    }
   ],
   "source": [
    "foo(6.530527, 6.781790, 4.349695, 8.673138, 3.492807, -1.390285, -1.532193, -0.570329, 0.073056, 0.505441, 0.378761, 0.942631)"
   ]
  },
  {
   "cell_type": "code",
   "execution_count": 87,
   "metadata": {},
   "outputs": [
    {
     "name": "stdout",
     "output_type": "stream",
     "text": [
      "-0.013400301\n"
     ]
    },
    {
     "data": {
      "text/plain": [
       "'Great! the system is stable.'"
      ]
     },
     "execution_count": 87,
     "metadata": {},
     "output_type": "execute_result"
    }
   ],
   "source": [
    "foo(3.392299, 1.274827, 2.954947, 6.894759, 4.349512, -1.663661, -0.952437, -1.733414, 0.502079, 0.567242, 0.285880, 0.366120)"
   ]
  }
 ],
 "metadata": {
  "kernelspec": {
   "display_name": "Python 3",
   "language": "python",
   "name": "python3"
  },
  "language_info": {
   "codemirror_mode": {
    "name": "ipython",
    "version": 3
   },
   "file_extension": ".py",
   "mimetype": "text/x-python",
   "name": "python",
   "nbconvert_exporter": "python",
   "pygments_lexer": "ipython3",
   "version": "3.7.4"
  }
 },
 "nbformat": 4,
 "nbformat_minor": 2
}
